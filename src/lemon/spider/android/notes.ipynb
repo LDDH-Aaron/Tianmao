{
 "cells": [
  {
   "cell_type": "markdown",
   "metadata": {},
   "source": [
    "原始方案：命令行调用 adb\n",
    "\n",
    "拓展方案A：[uiautomator2](https://github.com/openatx/uiautomator2)\n",
    "\n",
    "拓展方案B：[Appium](https://appium.io/) + Appium-Python-Client"
   ]
  },
  {
   "cell_type": "code",
   "execution_count": null,
   "metadata": {},
   "outputs": [],
   "source": [
    "# 先去装个 Appium Server 然后启动\n",
    "from appium import webdriver\n",
    "from appium.options.android import UiAutomator2Options\n",
    "desired_caps = {\n",
    "        'platformName': 'Android',\n",
    "        'deviceName': 'Android Emulator',  # 可替换为实际设备名称\n",
    "        'automationName': 'UiAutomator2',\n",
    "        'noReset': True,  # 保持应用状态，不重新启动\n",
    "        'newCommandTimeout': 600  # 设置更长的等待时间，防止应用会话超时\n",
    "    }\n",
    "\n",
    "options = UiAutomator2Options().load_capabilities(desired_caps)\n",
    "driver = webdriver.Remote('http://localhost:4723', options=options)\n",
    "# 连接完毕，可进一步操作"
   ]
  },
  {
   "cell_type": "markdown",
   "metadata": {},
   "source": [
    "uiautomator2 应该已经够用了（x\n",
    "\n",
    "因为都没办法一次性获取到整个页面的内容"
   ]
  }
 ],
 "metadata": {
  "kernelspec": {
   "display_name": ".venv",
   "language": "python",
   "name": "python3"
  },
  "language_info": {
   "name": "python",
   "version": "3.12.5"
  }
 },
 "nbformat": 4,
 "nbformat_minor": 2
}
